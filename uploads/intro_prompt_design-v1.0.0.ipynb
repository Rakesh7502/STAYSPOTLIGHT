{
 "cells": [
  {
   "cell_type": "code",
   "execution_count": null,
   "metadata": {
    "id": "ur8xi4C7S06n"
   },
   "outputs": [],
   "source": [
    "# Copyright 2024 Google LLC\n",
    "#\n",
    "# Licensed under the Apache License, Version 2.0 (the \"License\");\n",
    "# you may not use this file except in compliance with the License.\n",
    "# You may obtain a copy of the License at\n",
    "#\n",
    "#     https://www.apache.org/licenses/LICENSE-2.0\n",
    "#\n",
    "# Unless required by applicable law or agreed to in writing, software\n",
    "# distributed under the License is distributed on an \"AS IS\" BASIS,\n",
    "# WITHOUT WARRANTIES OR CONDITIONS OF ANY KIND, either express or implied.\n",
    "# See the License for the specific language governing permissions and\n",
    "# limitations under the License."
   ]
  },
  {
   "cell_type": "markdown",
   "metadata": {
    "id": "JAPoU8Sm5E6e"
   },
   "source": [
    "# Prompt Design - Best Practices\n",
    "\n",
    "<table align=\"left\">\n",
    "  <td style=\"text-align: center\">\n",
    "    <a href=\"https://colab.research.google.com/github/GoogleCloudPlatform/generative-ai/blob/main/gemini/prompts/intro_prompt_design.ipynb\">\n",
    "      <img src=\"https://cloud.google.com/ml-engine/images/colab-logo-32px.png\" alt=\"Google Colaboratory logo\"><br> Open in Colab\n",
    "    </a>\n",
    "  </td>\n",
    "  <td style=\"text-align: center\">\n",
    "    <a href=\"https://console.cloud.google.com/vertex-ai/colab/import/https:%2F%2Fraw.githubusercontent.com%2FGoogleCloudPlatform%2Fgenerative-ai%2Fmain%2Fgemini%2Fprompts%2Fintro_prompt_design.ipynb\">\n",
    "      <img width=\"32px\" src=\"https://lh3.googleusercontent.com/JmcxdQi-qOpctIvWKgPtrzZdJJK-J3sWE1RsfjZNwshCFgE_9fULcNpuXYTilIR2hjwN\" alt=\"Google Cloud Colab Enterprise logo\"><br> Open in Colab Enterprise\n",
    "    </a>\n",
    "  </td>    \n",
    "  <td style=\"text-align: center\">\n",
    "    <a href=\"https://console.cloud.google.com/vertex-ai/workbench/deploy-notebook?download_url=https://raw.githubusercontent.com/GoogleCloudPlatform/generative-ai/main/gemini/prompts/intro_prompt_design.ipynb\">\n",
    "      <img src=\"https://lh3.googleusercontent.com/UiNooY4LUgW_oTvpsNhPpQzsstV5W8F7rYgxgGBD85cWJoLmrOzhVs_ksK_vgx40SHs7jCqkTkCk=e14-rj-sc0xffffff-h130-w32\" alt=\"Vertex AI logo\"><br> Open in Workbench\n",
    "    </a>\n",
    "  </td>\n",
    "  <td style=\"text-align: center\">\n",
    "    <a href=\"https://github.com/GoogleCloudPlatform/generative-ai/blob/main/gemini/prompts/intro_prompt_design.ipynb\">\n",
    "      <img src=\"https://cloud.google.com/ml-engine/images/github-logo-32px.png\" alt=\"GitHub logo\"><br> View on GitHub\n",
    "    </a>\n",
    "  </td>\n",
    "</table>"
   ]
  },
  {
   "cell_type": "markdown",
   "metadata": {
    "id": "84f0f73a0f76"
   },
   "source": [
    "| | | |\n",
    "|-|-|-|\n",
    "|Author(s) | [Polong Lin](https://github.com/polong-lin) | [Karl Weinmeister](https://github.com/kweinmeister)|"
   ]
  },
  {
   "cell_type": "markdown",
   "metadata": {
    "id": "tvgnzT1CKxrO"
   },
   "source": [
    "## Overview\n",
    "\n",
    "This notebook covers the essentials of prompt engineering, including some best practices.\n",
    "\n",
    "Learn more about prompt design in the [official documentation](https://cloud.google.com/vertex-ai/docs/generative-ai/text/text-overview).\n",
    "\n",
    "In this notebook, you learn best practices around prompt engineering -- how to design prompts to improve the quality of your responses.\n",
    "\n",
    "This notebook covers the following best practices for prompt engineering:\n",
    "\n",
    "- Be concise\n",
    "- Be specific and well-defined\n",
    "- Ask one task at a time\n",
    "- Turn generative tasks into classification tasks\n",
    "- Improve response quality by including examples"
   ]
  },
  {
   "cell_type": "markdown",
   "metadata": {
    "id": "61RBz8LLbxCR"
   },
   "source": [
    "## Getting Started"
   ]
  },
  {
   "cell_type": "markdown",
   "metadata": {
    "id": "No17Cw5hgx12"
   },
   "source": [
    "### Install Vertex AI SDK and other required packages\n"
   ]
  },
  {
   "cell_type": "code",
   "execution_count": 1,
   "metadata": {
    "id": "tFy3H3aPgx12",
    "tags": []
   },
   "outputs": [
    {
     "name": "stdout",
     "output_type": "stream",
     "text": [
      "\u001b[33m  WARNING: The script tb-gcp-uploader is installed in '/home/jupyter/.local/bin' which is not on PATH.\n",
      "  Consider adding this directory to PATH or, if you prefer to suppress this warning, use --no-warn-script-location.\u001b[0m\u001b[33m\n",
      "\u001b[0mNote: you may need to restart the kernel to use updated packages.\n"
     ]
    }
   ],
   "source": [
    "%pip install --upgrade --user --quiet google-cloud-aiplatform"
   ]
  },
  {
   "cell_type": "markdown",
   "metadata": {
    "id": "R5Xep4W9lq-Z",
    "tags": []
   },
   "source": [
    "### Restart runtime\n",
    "\n",
    "To use the newly installed packages in this Jupyter runtime, you must restart the runtime. You can do this by running the cell below, which will restart the current kernel."
   ]
  },
  {
   "cell_type": "code",
   "execution_count": 1,
   "metadata": {
    "id": "XRvKdaPDTznN",
    "tags": []
   },
   "outputs": [
    {
     "data": {
      "text/plain": [
       "{'status': 'ok', 'restart': True}"
      ]
     },
     "execution_count": 1,
     "metadata": {},
     "output_type": "execute_result"
    }
   ],
   "source": [
    "import IPython\n",
    "\n",
    "app = IPython.Application.instance()\n",
    "app.kernel.do_shutdown(True)"
   ]
  },
  {
   "cell_type": "markdown",
   "metadata": {
    "id": "SbmM4z7FOBpM"
   },
   "source": [
    "<div class=\"alert alert-block alert-warning\">\n",
    "<b>⚠️ The kernel is going to restart. Please wait until it is finished before continuing to the next step. ⚠️</b>\n",
    "</div>\n"
   ]
  },
  {
   "cell_type": "markdown",
   "metadata": {
    "id": "dmWOrTJ3gx13"
   },
   "source": [
    "### Authenticate your notebook environment (Colab only)\n",
    "\n",
    "Authenticate your environment on Google Colab.\n"
   ]
  },
  {
   "cell_type": "code",
   "execution_count": null,
   "metadata": {
    "id": "NyKGtVQjgx13"
   },
   "outputs": [],
   "source": [
    "import sys\n",
    "\n",
    "if \"google.colab\" in sys.modules:\n",
    "    from google.colab import auth\n",
    "\n",
    "    auth.authenticate_user()"
   ]
  },
  {
   "cell_type": "markdown",
   "metadata": {
    "id": "DF4l8DTdWgPY"
   },
   "source": [
    "### Set Google Cloud project information and initialize Vertex AI SDK\n",
    "\n",
    "To get started using Vertex AI, you must have an existing Google Cloud project and [enable the Vertex AI API](https://console.cloud.google.com/flows/enableapi?apiid=aiplatform.googleapis.com).\n",
    "\n",
    "Learn more about [setting up a project and a development environment](https://cloud.google.com/vertex-ai/docs/start/cloud-environment)."
   ]
  },
  {
   "cell_type": "code",
   "execution_count": 18,
   "metadata": {
    "id": "Nqwi-5ufWp_B",
    "tags": []
   },
   "outputs": [],
   "source": [
    "PROJECT_ID = \"qwiklabs-gcp-03-61b7f0159050\"  # @param {type:\"string\"}\n",
    "LOCATION = \"us-west1\"  # @param {type:\"string\"}\n",
    "\n",
    "import vertexai\n",
    "\n",
    "vertexai.init(project=PROJECT_ID, location=LOCATION)"
   ]
  },
  {
   "cell_type": "code",
   "execution_count": 19,
   "metadata": {
    "id": "QqRWdPGmW3NJ",
    "tags": []
   },
   "outputs": [],
   "source": [
    "from vertexai.generative_models import GenerationConfig, GenerativeModel\n",
    "import time"
   ]
  },
  {
   "cell_type": "markdown",
   "metadata": {
    "id": "OnFPpCRtXRl4"
   },
   "source": [
    "### Load model"
   ]
  },
  {
   "cell_type": "code",
   "execution_count": 20,
   "metadata": {
    "id": "IQYu_9SvXQah",
    "tags": []
   },
   "outputs": [],
   "source": [
    "model = GenerativeModel(\"gemini-1.5-flash\")"
   ]
  },
  {
   "cell_type": "code",
   "execution_count": 4,
   "metadata": {
    "tags": []
   },
   "outputs": [],
   "source": [
    "import time\n",
    "\n",
    "def call_gemini(prompt, generation_config=GenerationConfig(temperature=1.0)):\n",
    "    wait_time = 1\n",
    "    while True:\n",
    "        try:\n",
    "            response = model.generate_content(prompt, generation_config=generation_config).text\n",
    "            return response\n",
    "            break  # Exit the loop if successful\n",
    "        except Exception as e:  # Replace with the actual exception type\n",
    "            time.sleep(wait_time)\n",
    "            wait_time *= 2  # Double the wait time\n",
    "\n",
    "def send_message_gemini(model, prompt):    \n",
    "    wait_time = 1\n",
    "    while True:\n",
    "        try:\n",
    "            response = model.send_message(prompt).text\n",
    "            return response\n",
    "            break  # Exit the loop if successful\n",
    "        except Exception as e:  # Replace with the actual exception type\n",
    "            time.sleep(wait_time)\n",
    "            wait_time *= 2  # Double the wait time"
   ]
  },
  {
   "cell_type": "markdown",
   "metadata": {
    "id": "cVOtUNJ5X0PY"
   },
   "source": [
    "## Prompt engineering best practices"
   ]
  },
  {
   "cell_type": "markdown",
   "metadata": {
    "id": "uv_e0fEPX60q"
   },
   "source": [
    "Prompt engineering is all about how to design your prompts so that the response is what you were indeed hoping to see.\n",
    "\n",
    "The idea of using \"unfancy\" prompts is to minimize the noise in your prompt to reduce the possibility of the LLM misinterpreting the intent of the prompt. Below are a few guidelines on how to engineer \"unfancy\" prompts.\n",
    "\n",
    "In this section, you'll cover the following best practices when engineering prompts:\n",
    "\n",
    "* Be concise\n",
    "* Be specific, and well-defined\n",
    "* Ask one task at a time\n",
    "* Improve response quality by including examples\n",
    "* Turn generative tasks to classification tasks to improve safety"
   ]
  },
  {
   "cell_type": "markdown",
   "metadata": {
    "id": "0pY4XX0OX9_Y"
   },
   "source": [
    "### Be concise"
   ]
  },
  {
   "cell_type": "markdown",
   "metadata": {
    "id": "xlRpxyxGYA1K"
   },
   "source": [
    "🛑 Not recommended. The prompt below is unnecessarily verbose."
   ]
  },
  {
   "cell_type": "code",
   "execution_count": 29,
   "metadata": {
    "id": "YKV4G-CfXdbi",
    "tags": []
   },
   "outputs": [
    {
     "name": "stdout",
     "output_type": "stream",
     "text": [
      "Here are some flower shop names that evoke a sense of permanence, beauty, and nostalgia, perfect for a dried flower specialty shop:\n",
      "\n",
      "**Evoking Timelessness:**\n",
      "\n",
      "* **The Everbloom**\n",
      "* **Dried & Divine**\n",
      "* **Forever Blooms**\n",
      "* **The Timeless Bouquet**\n",
      "* **Wildflower Preserve**\n",
      "* **Bloom & Wither**\n",
      "\n",
      "**Focusing on Aesthetics:**\n",
      "\n",
      "* **The Dusty Rose**\n",
      "* **Sun-Kissed Florals**\n",
      "* **The Dried Petal Shop**\n",
      "* **Paper Flower Studio**\n",
      "* **Botanicals & Bloom**\n",
      "* **The Pressed Garden**\n",
      "\n",
      "**Evoking Nostalgia & Sentiment:**\n",
      "\n",
      "* **Grandmother's Garden**\n",
      "* **Whispers of Spring**\n",
      "* **The Memory Bloom**\n",
      "* **Timeless Blooms**\n",
      "* **The Dried Garden**\n",
      "* **Forever in Bloom**\n",
      "\n",
      "**Unique and Playful:**\n",
      "\n",
      "* **The Petal Pantry**\n",
      "* **Bloom & Co.**\n",
      "* **The Flower Muse**\n",
      "* **Dried & Delightful**\n",
      "* **The Bloom Apothecary**\n",
      "\n",
      "**When choosing a name, consider:**\n",
      "\n",
      "* **Your target audience:** Who are you trying to reach?\n",
      "* **Your brand personality:** Do you want your shop to be whimsical, elegant, or rustic?\n",
      "* **The availability of the name:** Check if it's already taken or if there are similar names out there.\n",
      "\n",
      "I hope this helps you find the perfect name for your dried flower shop!\n"
     ]
    }
   ],
   "source": [
    "prompt = \"What do you think could be a good name for a flower shop that specializes in selling bouquets of dried flowers more than fresh flowers?\"\n",
    "\n",
    "print(call_gemini(prompt))"
   ]
  },
  {
   "cell_type": "markdown",
   "metadata": {
    "id": "YrJexRHJYnmC"
   },
   "source": [
    "✅ Recommended. The prompt below is to the point and concise."
   ]
  },
  {
   "cell_type": "code",
   "execution_count": 30,
   "metadata": {
    "id": "VHetn9lCYrXB",
    "tags": []
   },
   "outputs": [
    {
     "name": "stdout",
     "output_type": "stream",
     "text": [
      "## Names for a Dried Flower Shop:\n",
      "\n",
      "**Evoking Timelessness & Nostalgia:**\n",
      "\n",
      "* **The Dried Bloom**\n",
      "* **Forever Blooms**\n",
      "* **Whispers of Time**\n",
      "* **The Timeless Bouquet**\n",
      "* **Past & Present Blooms**\n",
      "* **The Herbarium**\n",
      "* **The Dried Flower Apothecary**\n",
      "\n",
      "**Highlighting Beauty & Uniqueness:**\n",
      "\n",
      "* **Dusty Rose**\n",
      "* **Sun-Kissed Blooms**\n",
      "* **Ethereal Flowers**\n",
      "* **The Dried Muse**\n",
      "* **Wild & Dried**\n",
      "* **Botanical Art**\n",
      "* **The Dried Garden**\n",
      "\n",
      "**Focusing on Sustainability & Eco-Friendly:**\n",
      "\n",
      "* **The Sustainable Bloom**\n",
      "* **The Earthly Bouquet**\n",
      "* **Eco-Dried Flowers**\n",
      "* **Nature's Legacy**\n",
      "* **The Green Petal**\n",
      "* **Forever Flowers**\n",
      "* **Rebloom**\n",
      "\n",
      "**Playful & Whimsical:**\n",
      "\n",
      "* **The Poppy Patch**\n",
      "* **The Dried & Delicate**\n",
      "* **Bloom & Co.**\n",
      "* **Faded Glory**\n",
      "* **The Flower Press**\n",
      "* **The Botanical Bazaar**\n",
      "* **Bloom & Bloom Again**\n",
      "\n",
      "**Unique & Modern:**\n",
      "\n",
      "* **Bloom & Dust**\n",
      "* **The Dried Bouquet Co.**\n",
      "* **The Bloom Lab**\n",
      "* **The Paper Petal**\n",
      "* **The Dried Bloom Studio**\n",
      "* **Botanical Alchemy**\n",
      "* **The Dried Bloom Bar**\n",
      "\n",
      "**When choosing a name, consider:**\n",
      "\n",
      "* **Target audience:** Who are you trying to reach?\n",
      "* **Brand identity:** What feeling do you want to evoke?\n",
      "* **Availability:** Is the name available as a domain name and on social media?\n",
      "* **Memorability:** Is the name easy to remember and pronounce?\n",
      "\n",
      "**Bonus Tip:** Consider using a name that incorporates a location-specific element, like a street name or neighborhood. This can help your shop stand out locally. \n",
      "\n"
     ]
    }
   ],
   "source": [
    "prompt = \"Suggest a name for a flower shop that sells bouquets of dried flowers\"\n",
    "\n",
    "print(call_gemini(prompt))"
   ]
  },
  {
   "cell_type": "markdown",
   "metadata": {
    "id": "eXTAvdOHY0OC"
   },
   "source": [
    "### Be specific, and well-defined"
   ]
  },
  {
   "cell_type": "markdown",
   "metadata": {
    "id": "FTH4GEIgY1dp"
   },
   "source": [
    "Suppose that you want to brainstorm creative ways to describe Earth."
   ]
  },
  {
   "cell_type": "markdown",
   "metadata": {
    "id": "o5BmXBiGY4KC"
   },
   "source": [
    "🛑 The prompt below might be a bit too generic (which is certainly OK if you'd like to ask a generic question!)"
   ]
  },
  {
   "cell_type": "code",
   "execution_count": 23,
   "metadata": {
    "id": "eHBaMvv7Y6mR",
    "tags": []
   },
   "outputs": [
    {
     "name": "stdout",
     "output_type": "stream",
     "text": [
      "## Earth: Our Home Planet\n",
      "\n",
      "Earth is the third planet from the Sun and the only known place in the universe where life exists. It's a dynamic and fascinating world with a rich history and diverse ecosystems. Here's a glimpse:\n",
      "\n",
      "**Physical Characteristics:**\n",
      "\n",
      "* **Size:** Earth is a terrestrial planet with a diameter of 12,742 km (7,926 miles).\n",
      "* **Composition:** Mostly iron and nickel in the core, with a mantle of silicate rocks and a thin outer crust.\n",
      "* **Atmosphere:** Composed mainly of nitrogen (78%) and oxygen (21%).\n",
      "* **Water:** 71% of the Earth's surface is covered in water, forming oceans, lakes, and rivers.\n",
      "* **Gravity:** Earth's gravitational pull is what keeps us grounded and keeps the atmosphere intact.\n",
      "* **Magnetic Field:** Earth has a magnetic field that protects us from harmful solar radiation.\n",
      "\n",
      "**Life and Environment:**\n",
      "\n",
      "* **Biosphere:** Earth is home to an incredible diversity of life, from single-celled organisms to complex mammals.\n",
      "* **Ecosystems:** Earth's diverse landscapes create a variety of ecosystems, from tropical rainforests to icy tundras.\n",
      "* **Climate:** Earth's climate is constantly changing, influenced by factors like solar radiation, greenhouse gases, and ocean currents.\n",
      "\n",
      "**History and Future:**\n",
      "\n",
      "* **Formation:** Earth formed about 4.54 billion years ago from a swirling disk of gas and dust.\n",
      "* **Evolution of Life:** Life appeared on Earth billions of years ago, evolving over time through natural selection.\n",
      "* **Human Impact:** Human activities are significantly impacting Earth's environment, posing challenges for the future.\n",
      "\n",
      "**Key Features:**\n",
      "\n",
      "* **Continents:** Earth has seven major continents: Asia, Africa, North America, South America, Antarctica, Europe, and Australia.\n",
      "* **Mountains:** Earth's surface is dotted with mountains formed by tectonic plate movement.\n",
      "* **Oceans:** Five vast oceans cover the majority of Earth's surface: Pacific, Atlantic, Indian, Southern, and Arctic.\n",
      "\n",
      "**Beyond the Basics:**\n",
      "\n",
      "* Earth is not perfectly spherical, it's slightly flattened at the poles and bulging at the equator.\n",
      "* Earth's rotation on its axis causes day and night, while its orbit around the sun results in seasons.\n",
      "* The Earth's moon plays a significant role in stabilizing its rotation and influencing tides.\n",
      "\n",
      "Earth is a remarkable planet, full of wonder and complexity.  It's our home, and understanding its unique characteristics is essential for ensuring its continued existence and the well-being of all life on it. \n",
      "\n"
     ]
    }
   ],
   "source": [
    "prompt = \"Tell me about Earth\"\n",
    "\n",
    "print(call_gemini(prompt))"
   ]
  },
  {
   "cell_type": "markdown",
   "metadata": {
    "id": "4iyvEbteZnFL"
   },
   "source": [
    "✅ Recommended. The prompt below is specific and well-defined."
   ]
  },
  {
   "cell_type": "code",
   "execution_count": 24,
   "metadata": {
    "id": "JQ80z8urZnne",
    "tags": []
   },
   "outputs": [
    {
     "name": "stdout",
     "output_type": "stream",
     "text": [
      "## Earth: A Unique Planet in the Solar System\n",
      "\n",
      "Here's a list highlighting Earth's uniqueness compared to other planets in our solar system:\n",
      "\n",
      "**1. Life:** Earth is the only known planet to harbor life, with a diverse ecosystem ranging from microscopic bacteria to complex animals.  This is due to a unique combination of factors:\n",
      "    * **Liquid Water:**  Earth has a significant amount of liquid water on its surface, essential for life as we know it.\n",
      "    * **Atmosphere:** Earth's atmosphere provides protection from harmful radiation and regulates temperature.\n",
      "    * **Plate Tectonics:** The Earth's dynamic tectonic plates contribute to a stable climate and create diverse geological features.\n",
      "\n",
      "**2. Climate and Temperature:**  Earth's temperature range allows for liquid water to exist, crucial for life.  It also experiences a diverse range of climates due to its tilted axis and atmospheric circulation, leading to different seasons and weather patterns.\n",
      "\n",
      "**3. Magnetic Field:**  Earth's magnetic field acts as a shield protecting us from harmful solar wind, helping maintain the atmosphere and life.\n",
      "\n",
      "**4. Moon:**  Earth's large moon has significant effects on tides, stabilizing Earth's axis, and providing a celestial body for scientific study.\n",
      "\n",
      "**5. Diverse Geology:**  Earth boasts a variety of geological formations, including mountains, valleys, oceans, and deserts. This diversity is a result of plate tectonics and erosion.\n",
      "\n",
      "**6. Chemical Composition:**  Earth's unique chemical composition, with its rich abundance of oxygen, nitrogen, and carbon, allows for complex life forms to flourish.\n",
      "\n",
      "**7. Plate Tectonics:**  Earth is the only planet in the solar system with active plate tectonics, contributing to its diverse geological features, volcanic activity, and a dynamic ecosystem.\n",
      "\n",
      "**8. Orbital Characteristics:**  Earth's orbit around the sun is relatively stable and circular, allowing for a consistent climate. It also resides within the habitable zone, the region where temperatures are suitable for liquid water to exist.\n",
      "\n",
      "**9. Abundant Resources:**  Earth is rich in various natural resources, including water, minerals, and fossil fuels, supporting human civilization.\n",
      "\n",
      "**10. Intelligence and Technology:**  Earth is the only known planet to host intelligent life capable of developing advanced technology, altering the planet's environment, and exploring the cosmos.\n",
      "\n",
      "While we've explored the uniqueness of Earth in our solar system, it's important to remember that our understanding of the universe is constantly expanding. The possibility of discovering other planets with similar or even more exceptional properties is an exciting prospect for future space exploration.\n",
      "\n"
     ]
    }
   ],
   "source": [
    "prompt = \"Generate a list of ways that makes Earth unique compared to other planets\"\n",
    "\n",
    "print(call_gemini(prompt))"
   ]
  },
  {
   "cell_type": "markdown",
   "metadata": {
    "id": "R5kmfZYHZsJ7"
   },
   "source": [
    "### Ask one task at a time"
   ]
  },
  {
   "cell_type": "markdown",
   "metadata": {
    "id": "rsAezxeYZuUN"
   },
   "source": [
    "🛑 Not recommended. The prompt below has two parts to the question that could be asked separately."
   ]
  },
  {
   "cell_type": "code",
   "execution_count": 25,
   "metadata": {
    "id": "ElywPXpuZtWf",
    "tags": []
   },
   "outputs": [
    {
     "name": "stdout",
     "output_type": "stream",
     "text": [
      "Here's the breakdown:\n",
      "\n",
      "**Boiling Water:**\n",
      "\n",
      "* **Best Method:** The best method for boiling water depends on your resources and desired speed.  Here's a breakdown:\n",
      "\n",
      "    * **Stovetop (Pot/Kettle):** This is the most common and usually fastest way for home use. Use a pot or kettle, fill with water, and heat on a stovetop burner.  \n",
      "    * **Microwave:** Quick and convenient for small amounts of water. However, it might not get as hot as stovetop boiling. \n",
      "    * **Electric Kettle:** Very efficient and fast, especially for larger volumes. \n",
      "    * **Camping (Campfire/Stove):**  Use a pot or kettle over a fire or a camping stove. This can take longer but is useful for outdoor situations. \n",
      "\n",
      "**Why is the Sky Blue?**\n",
      "\n",
      "* **Rayleigh Scattering:** The color of the sky is due to a phenomenon called Rayleigh scattering.  Sunlight is a mixture of all colors of the rainbow. When sunlight enters the Earth's atmosphere, it collides with tiny particles like nitrogen and oxygen molecules. \n",
      "\n",
      "* **Blue Light Scattered Most:**  Blue light has a shorter wavelength than other colors in the visible spectrum. These shorter wavelengths are scattered more effectively by the tiny particles in the atmosphere. This means blue light is scattered in all directions, making the sky appear blue to us. \n",
      "\n",
      "* **Red Sunsets:**  At sunset, the sunlight has to travel through more of the atmosphere. This means more blue light is scattered away, and the longer wavelengths of light (red and orange) are what reach our eyes, making the sky look reddish or orange. \n",
      "\n"
     ]
    }
   ],
   "source": [
    "prompt = \"What's the best method of boiling water and why is the sky blue?\"\n",
    "\n",
    "print(call_gemini(prompt))"
   ]
  },
  {
   "cell_type": "markdown",
   "metadata": {
    "id": "ejzahazBZ8vk"
   },
   "source": [
    "✅ Recommended. The prompts below asks one task a time."
   ]
  },
  {
   "cell_type": "code",
   "execution_count": 26,
   "metadata": {
    "id": "C5ckp2F0Z_Ba",
    "tags": []
   },
   "outputs": [
    {
     "name": "stdout",
     "output_type": "stream",
     "text": [
      "There's no single \"best\" method for boiling water, as the ideal approach depends on your specific needs and resources. Here's a breakdown of common methods and their pros and cons:\n",
      "\n",
      "**1. Stovetop:**\n",
      "\n",
      "* **Pros:** Simple, accessible, versatile (works with various pot sizes)\n",
      "* **Cons:** Can be slow, requires constant monitoring, potential for spills or burns\n",
      "\n",
      "**2. Electric Kettle:**\n",
      "\n",
      "* **Pros:** Fast, energy-efficient, convenient, automatic shut-off for safety\n",
      "* **Cons:** Limited capacity, can be expensive\n",
      "\n",
      "**3. Microwave:**\n",
      "\n",
      "* **Pros:** Fast, convenient for small quantities, no heating element required\n",
      "* **Cons:** Uneven heating, not suitable for large volumes, potential for overheating\n",
      "\n",
      "**4. Camping Stove (propane or butane):**\n",
      "\n",
      "* **Pros:** Portable, ideal for outdoor use, convenient for camping or emergencies\n",
      "* **Cons:** Requires fuel, may be less efficient than other methods\n",
      "\n",
      "**Factors to consider when choosing the best method:**\n",
      "\n",
      "* **Volume of water:** For small quantities, a microwave or electric kettle is sufficient. For larger volumes, a stovetop or camping stove is recommended.\n",
      "* **Speed:** An electric kettle or microwave provides the fastest boiling times.\n",
      "* **Energy efficiency:** Electric kettles are generally the most energy-efficient option.\n",
      "* **Portability:** Camping stoves offer portability, ideal for outdoor use.\n",
      "* **Cost:** Stovetop is the cheapest option, while electric kettles can be more expensive.\n",
      "* **Safety:**  All methods require caution to avoid spills, burns, and overheating.\n",
      "\n",
      "**Ultimately, the best method for boiling water is the one that best suits your needs and preferences.**\n",
      "\n"
     ]
    }
   ],
   "source": [
    "prompt = \"What's the best method of boiling water?\"\n",
    "\n",
    "print(call_gemini(prompt))"
   ]
  },
  {
   "cell_type": "code",
   "execution_count": 27,
   "metadata": {
    "id": "KwUzhud4aA89",
    "tags": []
   },
   "outputs": [
    {
     "name": "stdout",
     "output_type": "stream",
     "text": [
      "The sky is blue due to a phenomenon called **Rayleigh scattering**. \n",
      "\n",
      "Here's how it works:\n",
      "\n",
      "1. **Sunlight is made of all colors of the rainbow.**  These colors are different wavelengths of light.\n",
      "2. **When sunlight enters the Earth's atmosphere, it encounters tiny particles, like nitrogen and oxygen molecules.** These particles are much smaller than the wavelengths of visible light.\n",
      "3. **These tiny particles scatter the shorter wavelengths of light (blue and violet) more effectively than the longer wavelengths (red and orange).** This scattering is called Rayleigh scattering.\n",
      "4. **The scattered blue light is then spread across the sky,** making it appear blue to our eyes. \n",
      "\n",
      "**Here's a simple analogy:** Imagine shining a flashlight through a dusty room. The dust particles scatter the light, making the room appear brighter and more diffuse. In the same way, the tiny particles in the atmosphere scatter the sunlight, making the sky appear blue.\n",
      "\n",
      "**Why is the sky not violet?** While violet light is scattered even more than blue light, our eyes are more sensitive to blue. So, we perceive the sky as blue, even though violet light is also present.\n",
      "\n",
      "**Other factors:**\n",
      "\n",
      "* **The angle of the sun:** The sky appears bluer when the sun is high in the sky because the light has to travel through less atmosphere. As the sun sets, the light has to travel through more atmosphere, and more of the blue light is scattered away, leaving more red and orange light to reach our eyes.\n",
      "* **Clouds:** Clouds are much larger than the particles that cause Rayleigh scattering. As a result, they don't scatter light as effectively, and they appear white. \n",
      "\n",
      "Let me know if you have any other questions! \n",
      "\n"
     ]
    }
   ],
   "source": [
    "prompt = \"Why is the sky blue?\"\n",
    "\n",
    "print(call_gemini(prompt))"
   ]
  },
  {
   "cell_type": "markdown",
   "metadata": {
    "id": "PJIL2RTQaGcT"
   },
   "source": [
    "### Watch out for hallucinations"
   ]
  },
  {
   "cell_type": "markdown",
   "metadata": {
    "id": "8Y8kYxrSaHE9"
   },
   "source": [
    "Although LLMs have been trained on a large amount of data, they can generate text containing statements not grounded in truth or reality; these responses from the LLM are often referred to as \"hallucinations\" due to their limited memorization capabilities. Note that simply prompting the LLM to provide a citation isn't a fix to this problem, as there are instances of LLMs providing false or inaccurate citations. Dealing with hallucinations is a fundamental challenge of LLMs and an ongoing research area, so it is important to be cognizant that LLMs may seem to give you confident, correct-sounding statements that are in fact incorrect.\n",
    "\n",
    "Note that if you intend to use LLMs for the creative use cases, hallucinating could actually be quite useful."
   ]
  },
  {
   "cell_type": "markdown",
   "metadata": {
    "id": "8NY5nAGeaJYS"
   },
   "source": [
    "Try the prompt like the one below repeatedly. We set the temperature to 1.0 so that it takes more risks in its choices. It's possible that it may provide an inaccurate, but confident answer."
   ]
  },
  {
   "cell_type": "code",
   "execution_count": 28,
   "metadata": {
    "id": "QALPjEILaM62",
    "tags": []
   },
   "outputs": [
    {
     "name": "stdout",
     "output_type": "stream",
     "text": [
      "I do not have access to real-time information, including the current date. To find out what day it is today, please check a calendar or ask a voice assistant. \n",
      "\n"
     ]
    }
   ],
   "source": [
    "generation_config = GenerationConfig(temperature=1.0)\n",
    "\n",
    "prompt = \"What day is it today?\"\n",
    "\n",
    "print(call_gemini(prompt, generation_config))"
   ]
  },
  {
   "cell_type": "markdown",
   "metadata": {
    "id": "BRkwzbgRbhKt"
   },
   "source": [
    "Since LLMs do not have access to real-time information without further integrations, you may have noticed it hallucinates what day it is today in some of the outputs."
   ]
  },
  {
   "cell_type": "markdown",
   "metadata": {
    "id": "3c811e310d02"
   },
   "source": [
    "### Using system instructions to guardrail the model from irrelevant responses\n",
    "\n",
    "How can we attempt to reduce the chances of irrelevant responses and hallucinations?\n",
    "\n",
    "One way is to provide the LLM with [system instructions](https://cloud.google.com/vertex-ai/generative-ai/docs/multimodal/send-chat-prompts-gemini#system-instructions).\n",
    "\n",
    "Let's see how system instructions works and how you can use them to reduce hallucinations or irrelevant questions for a travel chatbot.\n",
    "\n",
    "Suppose we ask a simple question about one of Italy's most famous tourist spots."
   ]
  },
  {
   "cell_type": "code",
   "execution_count": 31,
   "metadata": {
    "id": "rB6zJU76biFK",
    "tags": []
   },
   "outputs": [
    {
     "name": "stdout",
     "output_type": "stream",
     "text": [
      "Milan offers a wealth of amazing sights! To best recommend a spot, I need a little more information about what you're interested in seeing. \n",
      "\n",
      "For example, are you more drawn to:\n",
      "\n",
      "* **Art and history:** The Duomo, Sforza Castle, Leonardo da Vinci's Last Supper, Pinacoteca di Brera?\n",
      "* **Fashion and design:** The Galleria Vittorio Emanuele II, the fashion district, the Museo del Novecento?\n",
      "* **Food and culture:** The Navigli canals, the vibrant street food scene, the opera at Teatro alla Scala? \n",
      "\n",
      "Tell me what interests you most, and I can help you find the perfect sightseeing spot in Milan! \n",
      "\n"
     ]
    }
   ],
   "source": [
    "model_travel = GenerativeModel(\n",
    "    model_name=\"gemini-1.5-flash\",\n",
    "    system_instruction=[\n",
    "        \"Hello! You are an AI chatbot for a travel web site.\",\n",
    "        \"Your mission is to provide helpful queries for travelers.\",\n",
    "        \"Remember that before you answer a question, you must check to see if it complies with your mission.\",\n",
    "        \"If not, you can say, Sorry I can't answer that question.\",\n",
    "    ],\n",
    ")\n",
    "\n",
    "chat = model_travel.start_chat()\n",
    "\n",
    "prompt = \"What is the best place for sightseeing in Milan, Italy?\"\n",
    "\n",
    "print(send_message_gemini(chat, prompt))"
   ]
  },
  {
   "cell_type": "markdown",
   "metadata": {
    "id": "WZa-Qcf9cF4A"
   },
   "source": [
    "Now let us pretend to be a user asks the chatbot a question that is unrelated to travel."
   ]
  },
  {
   "cell_type": "code",
   "execution_count": 32,
   "metadata": {
    "id": "AZKBIDr2cGnu",
    "tags": []
   },
   "outputs": [
    {
     "name": "stdout",
     "output_type": "stream",
     "text": [
      "Sorry, I can't answer that question. I'm designed to help travelers with information about destinations, not personal meal planning. \n",
      "\n",
      "Perhaps you could tell me about your trip to Milan, and I can suggest some local restaurants based on your interests!  \n",
      "\n"
     ]
    }
   ],
   "source": [
    "prompt = \"What's for dinner?\"\n",
    "\n",
    "print(send_message_gemini(chat, prompt))"
   ]
  },
  {
   "cell_type": "markdown",
   "metadata": {
    "id": "JiUYIhwpctCy"
   },
   "source": [
    "You can see that this way, a guardrail in the prompt prevented the chatbot from veering off course."
   ]
  },
  {
   "cell_type": "markdown",
   "metadata": {
    "id": "ZuuDhA37cvmP"
   },
   "source": [
    "### Turn generative tasks into classification tasks to reduce output variability"
   ]
  },
  {
   "cell_type": "markdown",
   "metadata": {
    "id": "kUCUrsUzczmb"
   },
   "source": [
    "#### Generative tasks lead to higher output variability"
   ]
  },
  {
   "cell_type": "markdown",
   "metadata": {
    "id": "a1xASHAkc46n"
   },
   "source": [
    "The prompt below results in an open-ended response, useful for brainstorming, but response is highly variable."
   ]
  },
  {
   "cell_type": "code",
   "execution_count": 33,
   "metadata": {
    "id": "nPfXQWIacwRf",
    "tags": []
   },
   "outputs": [
    {
     "name": "stdout",
     "output_type": "stream",
     "text": [
      "It's great you're looking to improve your programming skills! To give you the best recommendation, I need a little more information. Tell me:\n",
      "\n",
      "**1. What programming language(s) are you familiar with?** (e.g., Python, Java, JavaScript, C++, etc.)\n",
      "**2. What are your interests?** (e.g., game development, web development, data science, mobile app development, etc.)\n",
      "**3. What is your current skill level?** (e.g., beginner, intermediate, advanced)\n",
      "**4. Do you prefer working solo or in a team?**\n",
      "\n",
      "Once you tell me this, I can provide a tailored recommendation that will be fun and challenging for you.\n",
      "\n",
      "For example, if you're a beginner in Python and interested in game development, I might suggest making a simple text-based adventure game. Or, if you're more experienced in Java and want to work on a team project, I might recommend participating in a hackathon focused on web development. \n",
      "\n",
      "I'm excited to help you on your programming journey! 😊 \n",
      "\n"
     ]
    }
   ],
   "source": [
    "prompt = \"I'm a high school student. Recommend me a programming activity to improve my skills.\"\n",
    "\n",
    "print(call_gemini(prompt))"
   ]
  },
  {
   "cell_type": "markdown",
   "metadata": {
    "id": "iAmm9wPYc_1o"
   },
   "source": [
    "#### Classification tasks reduces output variability"
   ]
  },
  {
   "cell_type": "markdown",
   "metadata": {
    "id": "VvRpK_0GdCpf"
   },
   "source": [
    "The prompt below results in a choice and may be useful if you want the output to be easier to control."
   ]
  },
  {
   "cell_type": "code",
   "execution_count": 35,
   "metadata": {
    "id": "kYDKh0r2dAqo",
    "tags": []
   },
   "outputs": [
    {
     "name": "stdout",
     "output_type": "stream",
     "text": [
      "As a high school student, it's great you're interested in learning programming! Here's a breakdown of the options and why you might choose one over the other:\n",
      "\n",
      "**a) Learn Python:**\n",
      "\n",
      "* **Pros:**\n",
      "    * **Beginner-friendly:** Python has a clean, easy-to-read syntax, making it ideal for beginners. \n",
      "    * **Versatile:**  Used in web development, data science, machine learning, automation, and more. \n",
      "    * **Huge community:** Extensive resources, libraries, and support online.\n",
      "    * **In-demand:**  Python is a highly sought-after skill in the tech industry.\n",
      "\n",
      "* **Cons:**\n",
      "    * **Not as performant as some other languages:**  While Python is generally fast enough for many tasks, it's not the most efficient language for high-performance computing.\n",
      "\n",
      "**b) Learn JavaScript:**\n",
      "\n",
      "* **Pros:**\n",
      "    * **Web development powerhouse:**  JavaScript is the language of the web, essential for interactive websites and web applications. \n",
      "    * **Cross-platform:** Can be used to develop applications for both web browsers and mobile devices. \n",
      "    * **High demand:**  JavaScript developers are in high demand, particularly for front-end development.\n",
      "\n",
      "* **Cons:**\n",
      "    * **Can be a bit challenging for beginners:**  JavaScript has a complex syntax and requires understanding of concepts like object-oriented programming. \n",
      "    * **Can be frustrating with browser inconsistencies:**  Different browsers may handle JavaScript differently, leading to debugging challenges.\n",
      "\n",
      "**c) Learn Fortran:**\n",
      "\n",
      "* **Pros:**\n",
      "    * **Scientific computing legend:** Fortran is specifically designed for high-performance computing and is used in scientific simulations, engineering, and data analysis.\n",
      "    * **Mature language:**  A vast library of existing code and resources.\n",
      "\n",
      "* **Cons:**\n",
      "    * **Not as widely used:**  Fortran is not as popular for general-purpose programming as Python or JavaScript.\n",
      "    * **Older syntax:** Can be challenging for beginners compared to more modern languages.\n",
      "    * **Limited use outside scientific computing:**  It's not suitable for web development or mobile applications.\n",
      "\n",
      "**Recommendation:**\n",
      "\n",
      "**Start with Python.** It's the most versatile and beginner-friendly option. It will give you a strong foundation in programming fundamentals and open doors to a wide range of exciting career paths.\n",
      "\n",
      "**Once you're comfortable with Python, you can then consider learning JavaScript** if you're interested in web development.  Fortran is a great choice if you're interested in scientific computing, but it's best learned after gaining experience with other languages.\n",
      "\n",
      "**Ultimately, the best language to learn depends on your interests and career goals.**  Think about what you want to achieve with your programming skills and choose the language that best supports those goals. \n",
      "\n"
     ]
    }
   ],
   "source": [
    "prompt = \"\"\"I'm a high school student. Which of these activities do you suggest and why:\n",
    "a) learn Python\n",
    "b) learn JavaScript\n",
    "c) learn Fortran\n",
    "\"\"\"\n",
    "\n",
    "print(call_gemini(prompt))"
   ]
  },
  {
   "cell_type": "markdown",
   "metadata": {
    "id": "iTd60b1GdIsx"
   },
   "source": [
    "### Improve response quality by including examples"
   ]
  },
  {
   "cell_type": "markdown",
   "metadata": {
    "id": "yJi44NejdJYE"
   },
   "source": [
    "Another way to improve response quality is to add examples in your prompt. The LLM learns in-context from the examples on how to respond. Typically, one to five examples (shots) are enough to improve the quality of responses. Including too many examples can cause the model to over-fit the data and reduce the quality of responses.\n",
    "\n",
    "Similar to classical model training, the quality and distribution of the examples is very important. Pick examples that are representative of the scenarios that you need the model to learn, and keep the distribution of the examples (e.g. number of examples per class in the case of classification) aligned with your actual distribution."
   ]
  },
  {
   "cell_type": "markdown",
   "metadata": {
    "id": "sMbLginWdOKs"
   },
   "source": [
    "#### Zero-shot prompt"
   ]
  },
  {
   "cell_type": "markdown",
   "metadata": {
    "id": "Crh2Loi2dQ0v"
   },
   "source": [
    "Below is an example of zero-shot prompting, where you don't provide any examples to the LLM within the prompt itself."
   ]
  },
  {
   "cell_type": "code",
   "execution_count": 36,
   "metadata": {
    "id": "-7myRc-SdTQ4",
    "tags": []
   },
   "outputs": [
    {
     "name": "stdout",
     "output_type": "stream",
     "text": [
      "Sentiment: **Positive** \n",
      "\n"
     ]
    }
   ],
   "source": [
    "prompt = \"\"\"Decide whether a Tweet's sentiment is positive, neutral, or negative.\n",
    "\n",
    "Tweet: I loved the new YouTube video you made!\n",
    "Sentiment:\n",
    "\"\"\"\n",
    "\n",
    "print(call_gemini(prompt))"
   ]
  },
  {
   "cell_type": "markdown",
   "metadata": {
    "id": "ucRtPn9SdL64"
   },
   "source": [
    "#### One-shot prompt"
   ]
  },
  {
   "cell_type": "markdown",
   "metadata": {
    "id": "rs0gQH2vdYBi"
   },
   "source": [
    "Below is an example of one-shot prompting, where you provide one example to the LLM within the prompt to give some guidance on what type of response you want."
   ]
  },
  {
   "cell_type": "code",
   "execution_count": 37,
   "metadata": {
    "id": "iEq-KxGYdaT5",
    "tags": []
   },
   "outputs": [
    {
     "name": "stdout",
     "output_type": "stream",
     "text": [
      "Sentiment: **negative** \n",
      "\n"
     ]
    }
   ],
   "source": [
    "prompt = \"\"\"Decide whether a Tweet's sentiment is positive, neutral, or negative.\n",
    "\n",
    "Tweet: I loved the new YouTube video you made!\n",
    "Sentiment: positive\n",
    "\n",
    "Tweet: That was awful. Super boring 😠\n",
    "Sentiment:\n",
    "\"\"\"\n",
    "\n",
    "print(call_gemini(prompt))"
   ]
  },
  {
   "cell_type": "markdown",
   "metadata": {
    "id": "JnKLjJzmdfL_"
   },
   "source": [
    "#### Few-shot prompt"
   ]
  },
  {
   "cell_type": "markdown",
   "metadata": {
    "id": "6Zv-9F5OdgI_"
   },
   "source": [
    "Below is an example of few-shot prompting, where you provide a few examples to the LLM within the prompt to give some guidance on what type of response you want."
   ]
  },
  {
   "cell_type": "code",
   "execution_count": 38,
   "metadata": {
    "id": "u37P9tG4dk9S",
    "tags": []
   },
   "outputs": [
    {
     "name": "stdout",
     "output_type": "stream",
     "text": [
      "Sentiment: **positive** \n",
      "\n",
      "Here's why:\n",
      "\n",
      "* **\"Something surprised me about this video - it was actually original\"**: This phrase expresses a positive feeling. The user was pleasantly surprised, suggesting the video exceeded their expectations. \n",
      "* **\"It was not the same old recycled stuff that I always see\"**: This further emphasizes the positive aspect - the video is unique and refreshing.\n",
      "* **\"Watch it - you will not regret it\"**: This is a strong recommendation, indicating the user believes others will enjoy the video as much as they did. \n",
      "\n",
      "Even though the tweet doesn't contain explicitly positive words like \"amazing\" or \"fantastic,\" the overall message is positive due to the surprise, appreciation for originality, and strong recommendation. \n",
      "\n"
     ]
    }
   ],
   "source": [
    "prompt = \"\"\"Decide whether a Tweet's sentiment is positive, neutral, or negative.\n",
    "\n",
    "Tweet: I loved the new YouTube video you made!\n",
    "Sentiment: positive\n",
    "\n",
    "Tweet: That was awful. Super boring 😠\n",
    "Sentiment: negative\n",
    "\n",
    "Tweet: Something surprised me about this video - it was actually original. It was not the same old recycled stuff that I always see. Watch it - you will not regret it.\n",
    "Sentiment:\n",
    "\"\"\"\n",
    "\n",
    "print(call_gemini(prompt))"
   ]
  },
  {
   "cell_type": "markdown",
   "metadata": {
    "id": "wDMD3xb2dvX6"
   },
   "source": [
    "#### Choosing between zero-shot, one-shot, few-shot prompting methods"
   ]
  },
  {
   "cell_type": "markdown",
   "metadata": {
    "id": "s92W0YpNdxJp"
   },
   "source": [
    "Which prompt technique to use will solely depends on your goal. The zero-shot prompts are more open-ended and can give you creative answers, while one-shot and few-shot prompts teach the model how to behave so you can get more predictable answers that are consistent with the examples provided."
   ]
  },
  {
   "cell_type": "code",
   "execution_count": null,
   "metadata": {},
   "outputs": [],
   "source": []
  }
 ],
 "metadata": {
  "colab": {
   "name": "intro_prompt_design.ipynb",
   "toc_visible": true
  },
  "environment": {
   "kernel": "conda-base-py",
   "name": "workbench-notebooks.m125",
   "type": "gcloud",
   "uri": "us-docker.pkg.dev/deeplearning-platform-release/gcr.io/workbench-notebooks:m125"
  },
  "kernelspec": {
   "display_name": "Python 3 (ipykernel) (Local)",
   "language": "python",
   "name": "conda-base-py"
  },
  "language_info": {
   "codemirror_mode": {
    "name": "ipython",
    "version": 3
   },
   "file_extension": ".py",
   "mimetype": "text/x-python",
   "name": "python",
   "nbconvert_exporter": "python",
   "pygments_lexer": "ipython3",
   "version": "3.10.15"
  }
 },
 "nbformat": 4,
 "nbformat_minor": 4
}
